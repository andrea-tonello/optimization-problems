{
 "cells": [
  {
   "cell_type": "code",
   "execution_count": 1,
   "metadata": {},
   "outputs": [],
   "source": [
    "import gurobipy as gp\n",
    "from gurobipy import GRB\n",
    "import numpy as np"
   ]
  },
  {
   "attachments": {},
   "cell_type": "markdown",
   "metadata": {},
   "source": [
    "# Definizione del problema"
   ]
  },
  {
   "attachments": {},
   "cell_type": "markdown",
   "metadata": {},
   "source": [
    "max z = 2500x1 + 5000x2 + 3000x3 - 275, s.t.\\\n",
    "24x1 + 27x2 + 23x3 <= 800\\\n",
    "20x1 + 30x2 + 30x3 <= 1200\\\n",
    "10x1 + 15x2 + 10x3 <= 1080\\\n",
    " 8x1 + 12x2 + 15x3 <= 1320\\\n",
    "x1 >= 4, x2 >= 5, x3 >= 6"
   ]
  },
  {
   "cell_type": "code",
   "execution_count": 14,
   "metadata": {},
   "outputs": [],
   "source": [
    "mymodel = gp.Model()"
   ]
  },
  {
   "cell_type": "code",
   "execution_count": 15,
   "metadata": {},
   "outputs": [
    {
     "name": "stdout",
     "output_type": "stream",
     "text": [
      "[  4.   5.   6. 275.]\n",
      "[ inf  inf  inf 275.]\n"
     ]
    }
   ],
   "source": [
    "n_vars = 4\n",
    "x = mymodel.addMVar(n_vars, lb=[4,5,6,275], ub=[GRB.INFINITY, GRB.INFINITY, GRB.INFINITY, 275]) #lb/ub := lower/upper bound(s),\n",
    "mymodel.update()\n",
    "print(x.lb)\n",
    "print(x.ub)"
   ]
  },
  {
   "attachments": {},
   "cell_type": "markdown",
   "metadata": {},
   "source": [
    "Aggiungiamo i vincoli del problema"
   ]
  },
  {
   "cell_type": "code",
   "execution_count": 16,
   "metadata": {},
   "outputs": [],
   "source": [
    "A =  np.array([[24, 27, 23, 0],\n",
    "               [20, 30, 25, 0],\n",
    "               [10, 15, 10, 0],\n",
    "               [8, 12, 15, 0]])\n",
    "\n",
    "b = np.array([800, 1200, 1080, 1320])\n",
    "\n",
    "ct1 = mymodel.addConstr(A[0]@x <= b[0])\n",
    "ct2 = mymodel.addConstr(A[1]@x <= b[1])\n",
    "ct3 = mymodel.addConstr(A[2]@x <= b[2])\n",
    "ct4 = mymodel.addConstr(A[3]@x <= b[3])\n",
    "\n",
    "mymodel.update()"
   ]
  },
  {
   "attachments": {},
   "cell_type": "markdown",
   "metadata": {},
   "source": [
    "Definizione funzione obiettivo"
   ]
  },
  {
   "cell_type": "code",
   "execution_count": 17,
   "metadata": {},
   "outputs": [],
   "source": [
    "obj_coefs = np.array([2500, 5000, 3000, -1])\n",
    "mymodel.setObjective(obj_coefs @ x, GRB.MAXIMIZE)"
   ]
  },
  {
   "attachments": {},
   "cell_type": "markdown",
   "metadata": {},
   "source": [
    "Risoluzione e stampa"
   ]
  },
  {
   "cell_type": "code",
   "execution_count": 18,
   "metadata": {},
   "outputs": [
    {
     "name": "stdout",
     "output_type": "stream",
     "text": [
      "Gurobi Optimizer version 10.0.2 build v10.0.2rc0 (win64)\n",
      "\n",
      "CPU model: AMD Ryzen 7 5800HS with Radeon Graphics, instruction set [SSE2|AVX|AVX2]\n",
      "Thread count: 8 physical cores, 16 logical processors, using up to 16 threads\n",
      "\n",
      "Optimize a model with 4 rows, 4 columns and 12 nonzeros\n",
      "Model fingerprint: 0xd5c29b3e\n",
      "Coefficient statistics:\n",
      "  Matrix range     [8e+00, 3e+01]\n",
      "  Objective range  [1e+00, 5e+03]\n",
      "  Bounds range     [4e+00, 3e+02]\n",
      "  RHS range        [8e+02, 1e+03]\n",
      "Presolve removed 2 rows and 1 columns\n",
      "Presolve time: 0.02s\n",
      "Presolved: 2 rows, 3 columns, 6 nonzeros\n",
      "\n",
      "Iteration    Objective       Primal Inf.    Dual Inf.      Time\n",
      "       0    1.3253981e+05   0.000000e+00   0.000000e+00      0s\n",
      "       0    1.3253981e+05   0.000000e+00   0.000000e+00      0s\n",
      "\n",
      "Solved in 0 iterations and 0.03 seconds (0.00 work units)\n",
      "Optimal objective  1.325398148e+05\n",
      "C0 4\n",
      "C1 20.963\n",
      "C2 6\n",
      "C3 275\n",
      "Obj: 132540\n"
     ]
    }
   ],
   "source": [
    "mymodel.optimize()\n",
    "\n",
    "for v in mymodel.getVars():\n",
    "  print('%s %g' % (v.VarName, v.X))\n",
    "\n",
    "print('Obj: %g' % mymodel.ObjVal)"
   ]
  },
  {
   "cell_type": "code",
   "execution_count": 12,
   "metadata": {},
   "outputs": [
    {
     "name": "stdout",
     "output_type": "stream",
     "text": [
      "[<gurobi.Var C0 (value 0.0)>, <gurobi.Var C1 (value 0.0)>, <gurobi.Var C2 (value 22.22222222222222)>, <gurobi.Var C3 (value 0.0)>, <gurobi.Var C4 (value 0.0)>]\n"
     ]
    }
   ],
   "source": [
    "print(mymodel.getVars())"
   ]
  }
 ],
 "metadata": {
  "kernelspec": {
   "display_name": "Python 3",
   "language": "python",
   "name": "python3"
  },
  "language_info": {
   "codemirror_mode": {
    "name": "ipython",
    "version": 3
   },
   "file_extension": ".py",
   "mimetype": "text/x-python",
   "name": "python",
   "nbconvert_exporter": "python",
   "pygments_lexer": "ipython3",
   "version": "3.10.8"
  },
  "orig_nbformat": 4,
  "vscode": {
   "interpreter": {
    "hash": "78498b5cbecd5b7a699c2ed055301aff93c1235c2e2b95d51e046b216831cc0c"
   }
  }
 },
 "nbformat": 4,
 "nbformat_minor": 2
}
