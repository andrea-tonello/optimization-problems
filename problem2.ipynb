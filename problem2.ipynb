{
 "cells": [
  {
   "cell_type": "code",
   "execution_count": 1,
   "metadata": {},
   "outputs": [],
   "source": [
    "import gurobipy as gp\n",
    "from gurobipy import GRB\n",
    "import numpy as np"
   ]
  },
  {
   "attachments": {},
   "cell_type": "markdown",
   "metadata": {},
   "source": [
    "# Definizione del problema"
   ]
  },
  {
   "cell_type": "code",
   "execution_count": 6,
   "metadata": {},
   "outputs": [],
   "source": [
    "mymodel = gp.Model()"
   ]
  },
  {
   "cell_type": "code",
   "execution_count": 7,
   "metadata": {},
   "outputs": [],
   "source": [
    "n_vars = 30\n",
    "x = mymodel.addMVar(n_vars, lb=[0] *n_vars, ub=GRB.INFINITY) #lb/ub := lower/upper bound(s),\n",
    "mymodel.update()\n",
    "#print(x.lb)\n",
    "#print(x.ub)"
   ]
  },
  {
   "attachments": {},
   "cell_type": "markdown",
   "metadata": {},
   "source": [
    "Aggiungiamo i vincoli del problema"
   ]
  },
  {
   "cell_type": "code",
   "execution_count": 8,
   "metadata": {},
   "outputs": [],
   "source": [
    "A =  np.array([[1.5, 1.5, 1.5, 1.5, 1.5, 0,0,0,0,0, 0,0,0,0,0, 0,0,0,0,0, 0,0,0,0,0, 0,0,0,0,0],\n",
    "               [0,0,0,0,0, 1.5, 1.5, 1.5, 1.5, 1.5, 0,0,0,0,0, 0,0,0,0,0, 0,0,0,0,0, 0,0,0,0,0],\n",
    "               [0,0,0,0,0, 0,0,0,0,0, 1.5, 1.5, 1.5, 1.5, 1.5, 0,0,0,0,0, 0,0,0,0,0, 0,0,0,0,0],\n",
    "               [0,0,0,0,0, 0,0,0,0,0, 0,0,0,0,0, 2, 2, 2, 2, 2, 0,0,0,0,0, 0,0,0,0,0],\n",
    "               [0,0,0,0,0, 0,0,0,0,0, 0,0,0,0,0, 0,0,0,0,0, 2, 2, 2, 2, 2, 0,0,0,0,0],\n",
    "               [0,0,0,0,0, 0,0,0,0,0, 0,0,0,0,0, 0,0,0,0,0, 0,0,0,0,0, 2, 2, 2, 2, 2],\n",
    "\n",
    "               [1,0,0,0,0, 0,0,0,0,0, 0,0,0,0,0, 1,0,0,0,0, 0,0,0,0,0, 0,0,0,0,0],\n",
    "               [0,0,0,0,0, 1,0,0,0,0, 0,0,0,0,0, 0,0,0,0,0, 1,0,0,0,0, 0,0,0,0,0],\n",
    "               [0,0,0,0,0, 0,0,0,0,0, 1,0,0,0,0, 0,0,0,0,0, 0,0,0,0,0, 1,0,0,0,0],\n",
    "\n",
    "               [0,1,0,0,0, 0,0,0,0,0, 0,0,0,0,0, 0,1,0,0,0, 0,0,0,0,0, 0,0,0,0,0],\n",
    "               [0,0,0,0,0, 0,1,0,0,0, 0,0,0,0,0, 0,0,0,0,0, 0,1,0,0,0, 0,0,0,0,0],\n",
    "               [0,0,0,0,0, 0,0,0,0,0, 0,1,0,0,0, 0,0,0,0,0, 0,0,0,0,0, 0,1,0,0,0],\n",
    "\n",
    "               [0,0,1,0,0, 0,0,0,0,0, 0,0,0,0,0, 0,0,1,0,0, 0,0,0,0,0, 0,0,0,0,0],\n",
    "               [0,0,0,0,0, 0,0,1,0,0, 0,0,0,0,0, 0,0,0,0,0, 0,0,1,0,0, 0,0,0,0,0],\n",
    "               [0,0,0,0,0, 0,0,0,0,0, 0,0,1,0,0, 0,0,0,0,0, 0,0,0,0,0, 0,0,1,0,0],\n",
    "\n",
    "               [0,0,0,1,0, 0,0,0,0,0, 0,0,0,0,0, 0,0,0,1,0, 0,0,0,0,0, 0,0,0,0,0],\n",
    "               [0,0,0,0,0, 0,0,0,1,0, 0,0,0,0,0, 0,0,0,0,0, 0,0,0,1,0, 0,0,0,0,0],\n",
    "               [0,0,0,0,0, 0,0,0,0,0, 0,0,0,1,0, 0,0,0,0,0, 0,0,0,0,0, 0,0,0,1,0],\n",
    "\n",
    "               [0,0,0,0,1, 0,0,0,0,0, 0,0,0,0,0, 0,0,0,0,1, 0,0,0,0,0, 0,0,0,0,0],\n",
    "               [0,0,0,0,0, 0,0,0,0,1, 0,0,0,0,0, 0,0,0,0,0, 0,0,0,0,1, 0,0,0,0,0],\n",
    "               [0,0,0,0,0, 0,0,0,0,0, 0,0,0,0,1, 0,0,0,0,0, 0,0,0,0,0, 0,0,0,0,1]])\n",
    "\n",
    "b = np.array([420, 420, 420, 330, 330, 330, 150, 30, 0, 90, 50, 100, 50, 180, 75, 32, 120, 0, 100, 0, 200])\n",
    "\n",
    "ct1 = mymodel.addConstr(A[:6]@x <= b[:6])\n",
    "ct2 = mymodel.addConstr(A[-15:]@x <= b[-15:])\n",
    "\n",
    "mymodel.update()"
   ]
  },
  {
   "attachments": {},
   "cell_type": "markdown",
   "metadata": {},
   "source": [
    "Definizione funzione obiettivo"
   ]
  },
  {
   "cell_type": "code",
   "execution_count": 9,
   "metadata": {},
   "outputs": [],
   "source": [
    "obj_coefs = np.array([55, 55.3, 56.2, 57, 56.1, 55, 55.3, 56.2, 57, 56.1, 55, 55.3, 56.2, 57, 56.1, 60.4, 60.5, 62.6, 62.5, 62, 60.4, 60.5, 62.6, 62.5, 62, 60.4, 60.5, 62.6, 62.5, 62])\n",
    "mymodel.setObjective(obj_coefs @ x, GRB.MAXIMIZE)"
   ]
  },
  {
   "attachments": {},
   "cell_type": "markdown",
   "metadata": {},
   "source": [
    "Risoluzione e stampa"
   ]
  },
  {
   "cell_type": "code",
   "execution_count": 10,
   "metadata": {},
   "outputs": [
    {
     "name": "stdout",
     "output_type": "stream",
     "text": [
      "Gurobi Optimizer version 10.0.2 build v10.0.2rc0 (win64)\n",
      "\n",
      "CPU model: AMD Ryzen 7 5800HS with Radeon Graphics, instruction set [SSE2|AVX|AVX2]\n",
      "Thread count: 8 physical cores, 16 logical processors, using up to 16 threads\n",
      "\n",
      "Optimize a model with 21 rows, 30 columns and 60 nonzeros\n",
      "Model fingerprint: 0x4f6eabf2\n",
      "Coefficient statistics:\n",
      "  Matrix range     [1e+00, 2e+00]\n",
      "  Objective range  [6e+01, 6e+01]\n",
      "  Bounds range     [0e+00, 0e+00]\n",
      "  RHS range        [3e+01, 4e+02]\n",
      "Presolve removed 3 rows and 6 columns\n",
      "Presolve time: 0.01s\n",
      "Presolved: 18 rows, 24 columns, 48 nonzeros\n",
      "\n",
      "Iteration    Objective       Primal Inf.    Dual Inf.      Time\n",
      "       0    7.8643000e+04   4.276608e+02   0.000000e+00      0s\n",
      "      26    6.8866500e+04   0.000000e+00   0.000000e+00      0s\n",
      "\n",
      "Solved in 26 iterations and 0.01 seconds (0.00 work units)\n",
      "Optimal objective  6.886650000e+04\n",
      "C0 150\n",
      "C1 90\n",
      "C2 0\n",
      "C3 17\n",
      "C4 0\n",
      "C5 30\n",
      "C6 50\n",
      "C7 15\n",
      "C8 120\n",
      "C9 0\n",
      "C10 0\n",
      "C11 100\n",
      "C12 0\n",
      "C13 0\n",
      "C14 110\n",
      "C15 0\n",
      "C16 0\n",
      "C17 50\n",
      "C18 15\n",
      "C19 100\n",
      "C20 0\n",
      "C21 0\n",
      "C22 165\n",
      "C23 0\n",
      "C24 0\n",
      "C25 0\n",
      "C26 0\n",
      "C27 75\n",
      "C28 0\n",
      "C29 90\n",
      "Obj: 68866.5\n"
     ]
    }
   ],
   "source": [
    "mymodel.optimize()\n",
    "\n",
    "for v in mymodel.getVars():\n",
    "  print('%s %g' % (v.VarName, v.X))\n",
    "\n",
    "print('Obj: %g' % mymodel.ObjVal)"
   ]
  },
  {
   "cell_type": "code",
   "execution_count": 12,
   "metadata": {},
   "outputs": [
    {
     "name": "stdout",
     "output_type": "stream",
     "text": [
      "[<gurobi.Var C0 (value 0.0)>, <gurobi.Var C1 (value 0.0)>, <gurobi.Var C2 (value 22.22222222222222)>, <gurobi.Var C3 (value 0.0)>, <gurobi.Var C4 (value 0.0)>]\n"
     ]
    }
   ],
   "source": [
    "print(mymodel.getVars())"
   ]
  }
 ],
 "metadata": {
  "kernelspec": {
   "display_name": "Python 3",
   "language": "python",
   "name": "python3"
  },
  "language_info": {
   "codemirror_mode": {
    "name": "ipython",
    "version": 3
   },
   "file_extension": ".py",
   "mimetype": "text/x-python",
   "name": "python",
   "nbconvert_exporter": "python",
   "pygments_lexer": "ipython3",
   "version": "3.10.8"
  },
  "orig_nbformat": 4,
  "vscode": {
   "interpreter": {
    "hash": "78498b5cbecd5b7a699c2ed055301aff93c1235c2e2b95d51e046b216831cc0c"
   }
  }
 },
 "nbformat": 4,
 "nbformat_minor": 2
}
